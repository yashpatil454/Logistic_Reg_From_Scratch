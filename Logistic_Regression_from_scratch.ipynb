{
  "nbformat": 4,
  "nbformat_minor": 0,
  "metadata": {
    "colab": {
      "provenance": [],
      "collapsed_sections": [],
      "authorship_tag": "ABX9TyNPkvsYt2sjGzlPM7jZlfbA",
      "include_colab_link": true
    },
    "kernelspec": {
      "name": "python3",
      "display_name": "Python 3"
    },
    "language_info": {
      "name": "python"
    }
  },
  "cells": [
    {
      "cell_type": "markdown",
      "metadata": {
        "id": "view-in-github",
        "colab_type": "text"
      },
      "source": [
        "<a href=\"https://colab.research.google.com/github/yashpatil454/Logistic_Reg_From_Scratch/blob/main/Logistic_Regression_from_scratch.ipynb\" target=\"_parent\"><img src=\"https://colab.research.google.com/assets/colab-badge.svg\" alt=\"Open In Colab\"/></a>"
      ]
    },
    {
      "cell_type": "code",
      "source": [
        "#Imports...\n",
        "import pandas as pd\n",
        "import numpy as np\n",
        "import matplotlib.pyplot as plt\n",
        "from google.colab import drive\n",
        "drive.mount('/content/gdrive')"
      ],
      "metadata": {
        "colab": {
          "base_uri": "https://localhost:8080/"
        },
        "id": "6hOuh35d0NTD",
        "outputId": "cbdca6a3-bd22-43b7-a0c2-b5fb14eb88a5"
      },
      "execution_count": 55,
      "outputs": [
        {
          "output_type": "stream",
          "name": "stdout",
          "text": [
            "Drive already mounted at /content/gdrive; to attempt to forcibly remount, call drive.mount(\"/content/gdrive\", force_remount=True).\n"
          ]
        }
      ]
    },
    {
      "cell_type": "code",
      "execution_count": 28,
      "metadata": {
        "id": "_t3-F6H5uDBS"
      },
      "outputs": [],
      "source": [
        "#Loading data...\n",
        "XY_train_df = pd.read_csv('/content/gdrive/MyDrive/Logistic Regression from scratch/train.csv')\n",
        "X_test_df = pd.read_csv('/content/gdrive/MyDrive/Logistic Regression from scratch/test.csv')\n",
        "Y_test_df = pd.read_csv('/content/gdrive/MyDrive/Logistic Regression from scratch/gender_submission.csv')\n",
        "XY_test_df = pd.merge(X_test_df, Y_test_df, on=\"PassengerId\")"
      ]
    },
    {
      "cell_type": "code",
      "source": [
        "XY_train_df.isnull().sum()"
      ],
      "metadata": {
        "colab": {
          "base_uri": "https://localhost:8080/"
        },
        "id": "SmlGCffY1BQr",
        "outputId": "87f3a304-0eed-4a25-e62f-1e293c6f98fe"
      },
      "execution_count": 29,
      "outputs": [
        {
          "output_type": "execute_result",
          "data": {
            "text/plain": [
              "PassengerId      0\n",
              "Survived         0\n",
              "Pclass           0\n",
              "Name             0\n",
              "Sex              0\n",
              "Age            177\n",
              "SibSp            0\n",
              "Parch            0\n",
              "Ticket           0\n",
              "Fare             0\n",
              "Cabin          687\n",
              "Embarked         2\n",
              "dtype: int64"
            ]
          },
          "metadata": {},
          "execution_count": 29
        }
      ]
    },
    {
      "cell_type": "code",
      "source": [
        "XY_test_df.isnull().sum()"
      ],
      "metadata": {
        "colab": {
          "base_uri": "https://localhost:8080/"
        },
        "id": "D7jRQaFG1ZZC",
        "outputId": "bfd203df-61f2-4aa1-bd53-fc9e77a75a43"
      },
      "execution_count": 30,
      "outputs": [
        {
          "output_type": "execute_result",
          "data": {
            "text/plain": [
              "PassengerId      0\n",
              "Pclass           0\n",
              "Name             0\n",
              "Sex              0\n",
              "Age             86\n",
              "SibSp            0\n",
              "Parch            0\n",
              "Ticket           0\n",
              "Fare             1\n",
              "Cabin          327\n",
              "Embarked         0\n",
              "Survived         0\n",
              "dtype: int64"
            ]
          },
          "metadata": {},
          "execution_count": 30
        }
      ]
    },
    {
      "cell_type": "markdown",
      "source": [
        "Have to handle age column for null values....simply by dropping."
      ],
      "metadata": {
        "id": "B0cYi6vv1FMK"
      }
    },
    {
      "cell_type": "code",
      "source": [
        "XY_train_df.columns"
      ],
      "metadata": {
        "colab": {
          "base_uri": "https://localhost:8080/"
        },
        "id": "ezw8FupW447B",
        "outputId": "4ff8ea20-38bb-4d32-b283-5956dc7ff482"
      },
      "execution_count": 31,
      "outputs": [
        {
          "output_type": "execute_result",
          "data": {
            "text/plain": [
              "Index(['PassengerId', 'Survived', 'Pclass', 'Name', 'Sex', 'Age', 'SibSp',\n",
              "       'Parch', 'Ticket', 'Fare', 'Cabin', 'Embarked'],\n",
              "      dtype='object')"
            ]
          },
          "metadata": {},
          "execution_count": 31
        }
      ]
    },
    {
      "cell_type": "code",
      "source": [
        "#Cleaning and preproces\n",
        "XY_train_df.drop(['PassengerId', 'Name', 'Ticket', 'Cabin'], axis = 1, inplace = True)\n",
        "XY_test_df.drop(['PassengerId', 'Name', 'Ticket', 'Cabin'], axis = 1, inplace = True)\n",
        "XY_train_df.dropna(inplace = True)\n",
        "XY_test_df.dropna(inplace = True)"
      ],
      "metadata": {
        "id": "I6NJ83mJ0fVD"
      },
      "execution_count": 32,
      "outputs": []
    },
    {
      "cell_type": "code",
      "source": [
        "XY_train_df['Sex'] = XY_train_df['Sex'].map( {'female': 1, 'male': 0} ).astype(int)\n",
        "XY_test_df['Sex'] = XY_test_df['Sex'].map( {'female': 1, 'male': 0} ).astype(int)\n",
        "XY_train_df['Embarked'] = XY_train_df['Embarked'].map( {'S': 1, 'C': 2, 'Q': 3} ).astype(int)\n",
        "XY_test_df['Embarked'] = XY_test_df['Embarked'].map( {'S': 1, 'C': 2, 'Q': 3} ).astype(int)"
      ],
      "metadata": {
        "id": "VUc0eg-r7xrT"
      },
      "execution_count": 33,
      "outputs": []
    },
    {
      "cell_type": "code",
      "source": [
        "#Seprating the data into train test and converting it into matrices...\n",
        "X_train = XY_train_df.drop('Survived',axis=1)\n",
        "Y_train = XY_train_df['Survived']\n",
        "X_test = XY_test_df.drop('Survived',axis=1)\n",
        "Y_test = XY_test_df['Survived']"
      ],
      "metadata": {
        "id": "_AgqXK8J8Ykd"
      },
      "execution_count": 34,
      "outputs": []
    },
    {
      "cell_type": "code",
      "source": [
        "X_train = X_train.values\n",
        "Y_train = Y_train.values\n",
        "X_test = X_test.values\n",
        "Y_test = Y_test.values"
      ],
      "metadata": {
        "id": "XQ2BfmJP_RF5"
      },
      "execution_count": 35,
      "outputs": []
    },
    {
      "cell_type": "code",
      "source": [
        "X_train = X_train.T\n",
        "Y_train = Y_train.reshape(1,X_train.shape[1])\n",
        "\n",
        "X_test = X_test.T\n",
        "Y_test = Y_test.reshape(1,X_test.shape[1])"
      ],
      "metadata": {
        "id": "y0HPrPYeBmRB"
      },
      "execution_count": 36,
      "outputs": []
    },
    {
      "cell_type": "code",
      "source": [
        "print(X_train.shape)\n",
        "print(Y_train.shape)\n",
        "print(X_test.shape)\n",
        "print(Y_test.shape)"
      ],
      "metadata": {
        "colab": {
          "base_uri": "https://localhost:8080/"
        },
        "id": "J-qOjY8g-TNi",
        "outputId": "ee6b8c79-a211-4788-e066-bf19f02f9ce6"
      },
      "execution_count": 37,
      "outputs": [
        {
          "output_type": "stream",
          "name": "stdout",
          "text": [
            "(7, 712)\n",
            "(1, 712)\n",
            "(7, 331)\n",
            "(1, 331)\n"
          ]
        }
      ]
    },
    {
      "cell_type": "code",
      "source": [
        "def sigmoid(x):\n",
        "  return 1/(1+np.exp(-x))"
      ],
      "metadata": {
        "id": "ozahAM2f-uJ9"
      },
      "execution_count": 38,
      "outputs": []
    },
    {
      "cell_type": "code",
      "source": [
        "def model(X, Y, learning_rate, iterations):\n",
        "    no_of_samples = X_train.shape[1]\n",
        "    no_of_features = X_train.shape[0]\n",
        "    W = np.zeros((no_of_features,1))\n",
        "    B = 0\n",
        "    cost_log = []\n",
        "    \n",
        "    for i in range(iterations):\n",
        "        Z = np.dot(W.T, X) + B\n",
        "        A = sigmoid(Z)\n",
        "        \n",
        "        # Gradient Descent\n",
        "        dW = (1/no_of_samples)*np.dot(A - Y, X.T)\n",
        "        dB = (1/no_of_samples)*np.sum(A - Y)\n",
        "        W = W - learning_rate*dW.T\n",
        "        B = B - learning_rate*dB\n",
        "        \n",
        "        # Keeping track of our cost function value\n",
        "        cost = -(1/no_of_samples)*np.sum( Y*np.log(A) + (1-Y)*np.log(1-A))\n",
        "        cost_log.append(cost)\n",
        "        \n",
        "        if(i%(iterations/10) == 0):\n",
        "            print(\"Cost after \", i, \"iteration is: \", cost)\n",
        "        \n",
        "    return W, B, cost_log"
      ],
      "metadata": {
        "id": "CQBogC-HMd1W"
      },
      "execution_count": 53,
      "outputs": []
    },
    {
      "cell_type": "code",
      "source": [
        "iterations = 100000\n",
        "learning_rate = 0.0016\n",
        "W, B, cost_log = model(X_train, Y_train, learning_rate, iterations)"
      ],
      "metadata": {
        "colab": {
          "base_uri": "https://localhost:8080/"
        },
        "id": "2PFWzlQBM-tJ",
        "outputId": "fbc48c0f-476d-4524-b610-527aa98d68b0"
      },
      "execution_count": 60,
      "outputs": [
        {
          "output_type": "stream",
          "name": "stdout",
          "text": [
            "Cost after  0 iteration is:  0.6931471805599453\n",
            "Cost after  10000 iteration is:  0.4942641713051453\n",
            "Cost after  20000 iteration is:  0.4674249475041408\n",
            "Cost after  30000 iteration is:  0.45910658419256084\n",
            "Cost after  40000 iteration is:  0.45574816763069786\n",
            "Cost after  50000 iteration is:  0.4539944659146641\n",
            "Cost after  60000 iteration is:  0.4528483488011001\n",
            "Cost after  70000 iteration is:  0.45197664239919955\n",
            "Cost after  80000 iteration is:  0.45125698730687575\n",
            "Cost after  90000 iteration is:  0.4506393760538905\n"
          ]
        }
      ]
    },
    {
      "cell_type": "code",
      "source": [
        "print(\"Weights for features: \\n\",W)"
      ],
      "metadata": {
        "colab": {
          "base_uri": "https://localhost:8080/"
        },
        "id": "0FeAqQUDTR7I",
        "outputId": "f2b82735-80d9-4698-a9a2-d8ca4f63e536"
      },
      "execution_count": 64,
      "outputs": [
        {
          "output_type": "stream",
          "name": "stdout",
          "text": [
            "Weights for features: \n",
            " [[-0.92251887]\n",
            " [ 2.57781795]\n",
            " [-0.03086007]\n",
            " [-0.31465751]\n",
            " [-0.07597027]\n",
            " [ 0.00435492]\n",
            " [ 0.29284379]]\n"
          ]
        }
      ]
    },
    {
      "cell_type": "code",
      "source": [
        "print(\"Residual or Bias is: \",B)"
      ],
      "metadata": {
        "colab": {
          "base_uri": "https://localhost:8080/"
        },
        "id": "87Dwxtu0TkDR",
        "outputId": "f0d8da25-710d-41a5-e78c-fa9ae6fbea7e"
      },
      "execution_count": 66,
      "outputs": [
        {
          "output_type": "stream",
          "name": "stdout",
          "text": [
            "Residual or Bias is:  1.1929010174854628\n"
          ]
        }
      ]
    },
    {
      "cell_type": "markdown",
      "source": [
        "Plotting cost against iterations..."
      ],
      "metadata": {
        "id": "HjyP4gMYTA2k"
      }
    },
    {
      "cell_type": "code",
      "source": [
        "plt.plot(np.arange(iterations), cost_log)\n",
        "plt.show()"
      ],
      "metadata": {
        "colab": {
          "base_uri": "https://localhost:8080/",
          "height": 265
        },
        "id": "9-_sxn9fSQwY",
        "outputId": "300076c0-6485-4d7d-d6ce-2d961b3ea687"
      },
      "execution_count": 67,
      "outputs": [
        {
          "output_type": "display_data",
          "data": {
            "text/plain": [
              "<Figure size 432x288 with 1 Axes>"
            ],
            "image/png": "[encoded data removed]"
          },
          "metadata": {
            "needs_background": "light"
          }
        }
      ]
    },
    {
      "cell_type": "markdown",
      "source": [
        "Finding accuracy..."
      ],
      "metadata": {
        "id": "9x6men3cU79g"
      }
    },
    {
      "cell_type": "code",
      "source": [
        "def accuracy(X, Y, W, B):\n",
        "  Z = np.dot(W.T, X) + B\n",
        "  A = sigmoid(Z) > 0.5\n",
        "  A = np.array(A, dtype='int64')\n",
        "  acc = (1 - np.sum(np.absolute(A - Y))/Y.shape[1])*100 \n",
        "  return np.sum(A==Y)/Y.shape[1]"
      ],
      "metadata": {
        "id": "SZzvNtfWSnuV"
      },
      "execution_count": 87,
      "outputs": []
    },
    {
      "cell_type": "code",
      "source": [
        "accuracy(X_test, Y_test, W, B)"
      ],
      "metadata": {
        "colab": {
          "base_uri": "https://localhost:8080/"
        },
        "id": "tmWO8gPWWjJW",
        "outputId": "ecbac917-7371-4411-902b-4c97c22f88f2"
      },
      "execution_count": 88,
      "outputs": [
        {
          "output_type": "execute_result",
          "data": {
            "text/plain": [
              "0.9486404833836858"
            ]
          },
          "metadata": {},
          "execution_count": 88
        }
      ]
    },
    {
      "cell_type": "markdown",
      "source": [
        "So, the accuracy is approx. 95%..."
      ],
      "metadata": {
        "id": "9pVt-lcnY9HY"
      }
    }
  ]
}